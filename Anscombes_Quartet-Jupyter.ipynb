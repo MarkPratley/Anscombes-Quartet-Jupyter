{
 "cells": [
  {
   "cell_type": "markdown",
   "metadata": {},
   "source": [
    "# Exploring Anscombes Quartet in R with Jupyter Notebook"
   ]
  },
  {
   "cell_type": "markdown",
   "metadata": {},
   "source": [
    "[Anscombes Quartet](https://www.wikiwand.com/en/Anscombe's_quartet) comprises four datasets that have nearly identical simple statistical properties, yet appear very different when graphed. Each dataset consists of eleven (x,y) points. They were constructed in 1973 by the statistician Francis Anscombe to demonstrate both the importance of graphing data before analyzing it and the effect of outliers on statistical properties. He described the article as being intended to attack the impression among statisticians that \"numerical calculations are exact, but graphs are rough.\""
   ]
  },
  {
   "cell_type": "markdown",
   "metadata": {},
   "source": [
    "Here we use r inside a jupyter notebook to briefly explore and then graph these datasets to highlight the importance of visually inspecting data."
   ]
  },
  {
   "cell_type": "code",
   "execution_count": 16,
   "metadata": {
    "collapsed": false
   },
   "outputs": [],
   "source": [
    "# libs\n",
    "library(dplyr)\n",
    "library(ggplot2)\n",
    "library(reshape2)"
   ]
  },
  {
   "cell_type": "code",
   "execution_count": 17,
   "metadata": {
    "collapsed": true
   },
   "outputs": [],
   "source": [
    "# reshape\n",
    "a <- reshape(anscombe, varying=names(anscombe), sep=\"\", direction=\"long\", timevar=\"s\")"
   ]
  },
  {
   "cell_type": "code",
   "execution_count": 18,
   "metadata": {
    "collapsed": true
   },
   "outputs": [],
   "source": [
    "# reset rownames\n",
    "rownames(a) <- NULL\n",
    "\n",
    "# tidy columns a little\n",
    "colnames(a) <- c(\"set\", \"x\", \"y\", \"id\")\n",
    "a <- a[,c(\"set\", \"id\", \"x\", \"y\")]"
   ]
  },
  {
   "cell_type": "code",
   "execution_count": 19,
   "metadata": {
    "collapsed": false
   },
   "outputs": [],
   "source": [
    "# factorise set\n",
    "a$set <- as.factor(a$set)"
   ]
  },
  {
   "cell_type": "code",
   "execution_count": 20,
   "metadata": {
    "collapsed": false,
    "scrolled": true
   },
   "outputs": [
    {
     "data": {
      "text/plain": [
       " set          id           x            y         \n",
       " 1:11   Min.   : 1   Min.   : 4   Min.   : 3.100  \n",
       " 2:11   1st Qu.: 3   1st Qu.: 7   1st Qu.: 6.117  \n",
       " 3:11   Median : 6   Median : 8   Median : 7.520  \n",
       " 4:11   Mean   : 6   Mean   : 9   Mean   : 7.501  \n",
       "        3rd Qu.: 9   3rd Qu.:11   3rd Qu.: 8.748  \n",
       "        Max.   :11   Max.   :19   Max.   :12.740  "
      ]
     },
     "metadata": {},
     "output_type": "display_data"
    }
   ],
   "source": [
    "summary(a)"
   ]
  },
  {
   "cell_type": "code",
   "execution_count": 21,
   "metadata": {
    "collapsed": true
   },
   "outputs": [],
   "source": [
    "# Create a conveniant mode f(x)\n",
    "Mode <- function(x) {\n",
    "    ux <- unique(x)\n",
    "    ux[which.max(tabulate(match(x, ux)))]\n",
    "}"
   ]
  },
  {
   "cell_type": "markdown",
   "metadata": {},
   "source": [
    "The great feature of Anscombe's Quartet is that the summary statistics for each set are almost identical, which could lead you to assume that the datasets are almost identical too."
   ]
  },
  {
   "cell_type": "code",
   "execution_count": 25,
   "metadata": {
    "collapsed": false
   },
   "outputs": [
    {
     "name": "stdout",
     "output_type": "stream",
     "text": [
      "Source: local data frame [4 x 9]\n",
      "\n",
      "     set   Num mean.x median.x mode.x   mean.y median.y mode.y    cor.xy\n",
      "  (fctr) (int)  (dbl)    (dbl)  (dbl)    (dbl)    (dbl)  (dbl)     (dbl)\n",
      "1      1    11      9        9     10 7.500909     7.58   8.04 0.8164205\n",
      "2      2    11      9        9     10 7.500909     8.14   9.14 0.8162365\n",
      "3      3    11      9        9     10 7.500000     7.11   7.46 0.8162867\n",
      "4      4    11      9        8      8 7.500909     7.04   6.58 0.8165214\n"
     ]
    }
   ],
   "source": [
    "# Summary Statistics\n",
    "a %>% \n",
    "    group_by(set) %>% \n",
    "    summarise(Num=n(),\n",
    "              mean.x=mean(x),\n",
    "              median.x=median(x),\n",
    "              mode.x=Mode(x),\n",
    "              mean.y=mean(y),\n",
    "              median.y=median(y),\n",
    "              mode.y=Mode(y),\n",
    "              cor.xy=cor(x,y)) %>% \n",
    "    print()"
   ]
  },
  {
   "cell_type": "markdown",
   "metadata": {},
   "source": [
    "But if we visually compare them then it becomes apparent how different these datasets are."
   ]
  },
  {
   "cell_type": "code",
   "execution_count": 28,
   "metadata": {
    "collapsed": false,
    "scrolled": false
   },
   "outputs": [
    {
     "data": {
      "image/png": "[encoded data removed]",
      "text/plain": [
       "plot without title"
      ]
     },
     "metadata": {
      "image/svg+xml": {
       "isolated": true
      }
     },
     "output_type": "display_data"
    }
   ],
   "source": [
    "a %>% \n",
    "    ggplot(aes(x=x, y=y, colour=set)) + \n",
    "    geom_point() + \n",
    "    facet_wrap(~ set) +\n",
    "    geom_smooth(method = \"lm\", se = FALSE) +\n",
    "    ggtitle(\"Anscombe's Quartet Visual Comparison\")"
   ]
  },
  {
   "cell_type": "markdown",
   "metadata": {},
   "source": [
    "Demonstrating the importance of visually inspecting your data first."
   ]
  }
 ],
 "metadata": {
  "celltoolbar": "Raw Cell Format",
  "kernelspec": {
   "display_name": "R",
   "language": "R",
   "name": "ir"
  },
  "language_info": {
   "codemirror_mode": "r",
   "file_extension": ".r",
   "mimetype": "text/x-r-source",
   "name": "R",
   "pygments_lexer": "r",
   "version": "3.3.1"
  }
 },
 "nbformat": 4,
 "nbformat_minor": 0
}
